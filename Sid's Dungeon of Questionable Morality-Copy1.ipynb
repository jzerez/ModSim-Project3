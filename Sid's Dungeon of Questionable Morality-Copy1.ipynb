{
 "cells": [
  {
   "cell_type": "code",
   "execution_count": null,
   "metadata": {
    "collapsed": true
   },
   "outputs": [],
   "source": [
    "%matplotlib inline\n",
    "from modsim import *\n",
    "\n",
    "earth = Condition(thickness = 2414,\n",
    "                     surface_area = 5.099686589e+14,\n",
    "                     density = 5510)\n",
    "\n",
    "\n",
    "earth.radius = sqrt(earth.surface_area / (8 * np.pi))\n",
    "earth.volume1 = earth.thickness * earth.radius** 2 * np.pi\n",
    "earth.mass = earth.volume1 * earth.density\n",
    "\n",
    "\n",
    "\n",
    "baseball = Condition(x = 0, \n",
    "                      y = (earth.thickness/2) + 1,\n",
    "                      ay = 9.8,\n",
    "                      G = 6.67e-11,\n",
    "                      mass = 145e-3,\n",
    "                      diameter = 73e-3,\n",
    "                      rho = 1.2,\n",
    "                      C_d = 0.3,\n",
    "                      angle = 45,\n",
    "                      velocity = 40,\n",
    "                      duration = 25.1)\n",
    "\n",
    "def make_system(condition):\n",
    "    \"\"\"Make a system object.\n",
    "    \n",
    "    condition: Condition object with angle, velocity, x, y,\n",
    "               diameter, duration, g, mass, rho, and C_d\n",
    "               \n",
    "    returns: System object\n",
    "    \"\"\"\n",
    "    unpack(condition)\n",
    "    \n",
    "    # convert angle to degrees\n",
    "    theta = np.deg2rad(angle)\n",
    "    \n",
    "    # compute x and y components of velocity\n",
    "    vx, vy = pol2cart(theta, velocity)\n",
    "    \n",
    "    # make the initial state\n",
    "    init = State(x=x, y=y, vx=vx, vy=vy)\n",
    "    \n",
    "    # compute area from diameter\n",
    "    area = np.pi * (diameter/2)**2\n",
    "    \n",
    "    # compute timestamps\n",
    "    ts = linspace(0, duration, 101)\n",
    "    \n",
    "    return System(init=init, G=G, mass=mass, \n",
    "                  area=area, rho=rho, C_d=C_d, ts=ts)\n",
    "\n",
    "def slope_func(state, t, system):\n",
    "    x, y, vx, vy = state\n",
    "    unpack(system)\n",
    "    p = Vector(x, y)\n",
    "    v = Vector(vx, vy)\n",
    "    f_grav = (-G * earth.mass * mass * p.hat()/ (p.mag**1))\n",
    "    f_drag = -rho * v.mag * v * C_d * area / 2\n",
    "    \n",
    "    a_grav = f_grav / mass\n",
    "    a_drag = f_drag / mass\n",
    "    \n",
    "    a_y= Vector(0, -ay)\n",
    "\n",
    "    \n",
    "    a = a_grav + a_drag + a_y\n",
    "    \n",
    "    print(a_drag-a_grav)\n",
    "    \n",
    "    return vx, vy, a.x, a.y\n",
    "    \n",
    "\n",
    "\n",
    "    "
   ]
  },
  {
   "cell_type": "code",
   "execution_count": null,
   "metadata": {},
   "outputs": [],
   "source": [
    "system = make_system(baseball)\n",
    "slope_func(system.init, 0, system)\n",
    "\n",
    "run_odeint(system, slope_func)\n",
    "\n",
    "xs = system.results.x\n",
    "ys = system.results.y - (earth.thickness/2) + 1\n",
    "\n",
    "xv = system.results.vx\n",
    "yv = system.results.vy\n",
    "\n",
    "newfig()\n",
    "plot(xs[1:], label='x')\n",
    "plot(ys[1:], label='y')\n",
    "\n",
    "decorate(xlabel='Time (s)',\n",
    "         ylabel='Position (m)')\n"
   ]
  },
  {
   "cell_type": "code",
   "execution_count": null,
   "metadata": {},
   "outputs": [],
   "source": [
    "newfig()\n",
    "decorate(xlabel='x position (m)',\n",
    "         ylabel='y position (m)',\n",
    "         xlim=[-30, 30],\n",
    "         ylim=[-50, 15000],\n",
    "         legend=False)\n",
    "\n",
    "for x, y in zip(system.results.x, system.results.y):\n",
    "    plot(x, y, 'bo', update=True)\n",
    "    sleep(0.01)"
   ]
  },
  {
   "cell_type": "code",
   "execution_count": null,
   "metadata": {
    "collapsed": true
   },
   "outputs": [],
   "source": []
  },
  {
   "cell_type": "code",
   "execution_count": null,
   "metadata": {
    "collapsed": true
   },
   "outputs": [],
   "source": []
  }
 ],
 "metadata": {
  "kernelspec": {
   "display_name": "Python 3",
   "language": "python",
   "name": "python3"
  },
  "language_info": {
   "codemirror_mode": {
    "name": "ipython",
    "version": 3
   },
   "file_extension": ".py",
   "mimetype": "text/x-python",
   "name": "python",
   "nbconvert_exporter": "python",
   "pygments_lexer": "ipython3",
   "version": "3.6.1"
  }
 },
 "nbformat": 4,
 "nbformat_minor": 2
}
