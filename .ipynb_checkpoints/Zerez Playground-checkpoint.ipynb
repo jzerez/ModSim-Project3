{
 "cells": [
  {
   "cell_type": "code",
   "execution_count": 1,
   "metadata": {},
   "outputs": [
    {
     "name": "stdout",
     "output_type": "stream",
     "text": [
      "4504554.16456\n"
     ]
    }
   ],
   "source": [
    "%matplotlib qt5\n",
    "from modsim import *\n",
    "\n",
    "earth = Condition(thickness = 14140,\n",
    "                     surface_area = 5.099686589e+14,\n",
    "                     density = 5510)\n",
    "earth.radius = sqrt(earth.surface_area / (8 * np.pi))\n",
    "earth.volume1 = earth.thickness * earth.radius** 2 * np.pi\n",
    "earth.mass = earth.volume1 * earth.density\n",
    "print(earth.radius)\n",
    "\n",
    "\n",
    "\n",
    "baseball = Condition(x = earth.radius / 2.5, \n",
    "                      y = (earth.thickness/2) + 1,\n",
    "                      ay = 9.8,\n",
    "                      G = 6.67e-11,\n",
    "                      mass = 145e-3,\n",
    "                      diameter = 73e-4,\n",
    "                      rho = 1,\n",
    "                      C_d = 0.3,\n",
    "                      angle = 60,\n",
    "                      velocity = 100,\n",
    "                      duration = 300)\n",
    "\n",
    "def make_system(condition):\n",
    "    \"\"\"Make a system object.\n",
    "    \n",
    "    condition: Condition object with angle, velocity, x, y,\n",
    "               diameter, duration, g, mass, rho, and C_d\n",
    "               \n",
    "    returns: System object\n",
    "    \"\"\"\n",
    "    unpack(condition)\n",
    "    \n",
    "    # convert angle to degrees\n",
    "    theta = np.deg2rad(angle)\n",
    "    \n",
    "    # compute x and y components of velocity\n",
    "    vx, vy = pol2cart(theta, velocity)\n",
    "    \n",
    "    # make the initial state\n",
    "    init = State(x=x, y=y, vx=vx, vy=vy)\n",
    "    \n",
    "    # compute area from diameter\n",
    "    area = np.pi * (diameter/2)**2\n",
    "    \n",
    "    # compute timestamps\n",
    "    ts = linspace(0, duration, 101)\n",
    "    \n",
    "    return System(init=init, G=G, mass=mass, \n",
    "                  area=area, rho=rho, C_d=C_d, ts=ts)\n",
    "\n",
    "def slope_func(state, t, system):\n",
    "    x, y, vx, vy = state\n",
    "    unpack(system)\n",
    "    p = Vector(x, y)\n",
    "    v = Vector(vx, vy)\n",
    "    f_grav = p.hat() * (-G * earth.mass * mass / (p.mag**2))\n",
    "    f_drag = -rho * v.mag * v * C_d * area / 2\n",
    "    \n",
    "    #print(f_grav)\n",
    "    #print(f_grav.mag)\n",
    "    \n",
    "    a_grav = f_grav / mass\n",
    "    a_drag = f_drag / mass\n",
    "    a_y= Vector(0, -ay)\n",
    "    \n",
    "    #a = a_grav + a_y\n",
    "    a = a_grav + a_drag + a_y\n",
    "\n",
    "\n",
    "    return vx, vy, a.x, a.y\n",
    "\n",
    "def find_landing(system):\n",
    "    counter = 0\n",
    "    for height in system.results.y:\n",
    "        if (height < (earth.thickness / 2)):\n",
    "            #print(system.results.y.index[counter])\n",
    "            return system.results.y.index[counter]\n",
    "        counter += 1\n",
    "        \n",
    "def calc_dist(system):\n",
    "    time = find_landing(system)\n",
    "    dist = abs(system.init.x - system.results.x[ground_time])\n",
    "    return dist\n",
    "\n"
   ]
  },
  {
   "cell_type": "code",
   "execution_count": 2,
   "metadata": {},
   "outputs": [
    {
     "data": {
      "text/html": [
       "<div>\n",
       "<style>\n",
       "    .dataframe thead tr:only-child th {\n",
       "        text-align: right;\n",
       "    }\n",
       "\n",
       "    .dataframe thead th {\n",
       "        text-align: left;\n",
       "    }\n",
       "\n",
       "    .dataframe tbody tr th {\n",
       "        vertical-align: top;\n",
       "    }\n",
       "</style>\n",
       "<table border=\"1\" class=\"dataframe\">\n",
       "  <thead>\n",
       "    <tr style=\"text-align: right;\">\n",
       "      <th></th>\n",
       "      <th>value</th>\n",
       "    </tr>\n",
       "  </thead>\n",
       "  <tbody>\n",
       "    <tr>\n",
       "      <th>x</th>\n",
       "      <td>1.801822e+06</td>\n",
       "    </tr>\n",
       "    <tr>\n",
       "      <th>y</th>\n",
       "      <td>7.071000e+03</td>\n",
       "    </tr>\n",
       "    <tr>\n",
       "      <th>vx</th>\n",
       "      <td>5.000000e+01</td>\n",
       "    </tr>\n",
       "    <tr>\n",
       "      <th>vy</th>\n",
       "      <td>8.660254e+01</td>\n",
       "    </tr>\n",
       "  </tbody>\n",
       "</table>\n",
       "</div>"
      ],
      "text/plain": [
       "x     1.801822e+06\n",
       "y     7.071000e+03\n",
       "vx    5.000000e+01\n",
       "vy    8.660254e+01\n",
       "dtype: float64"
      ]
     },
     "execution_count": 2,
     "metadata": {},
     "output_type": "execute_result"
    }
   ],
   "source": [
    "system = make_system(baseball)\n",
    "system.init"
   ]
  },
  {
   "cell_type": "code",
   "execution_count": 3,
   "metadata": {},
   "outputs": [
    {
     "data": {
      "text/plain": [
       "18.0"
      ]
     },
     "execution_count": 3,
     "metadata": {},
     "output_type": "execute_result"
    }
   ],
   "source": [
    "system = make_system(baseball)\n",
    "run_odeint(system, slope_func)\n",
    "find_landing(system)"
   ]
  },
  {
   "cell_type": "code",
   "execution_count": 5,
   "metadata": {},
   "outputs": [
    {
     "name": "stderr",
     "output_type": "stream",
     "text": [
      "C:\\ProgramData\\Miniconda3\\lib\\site-packages\\scipy\\integrate\\odepack.py:218: ODEintWarning: Excess work done on this call (perhaps wrong Dfun type). Run with full_output = 1 to get quantitative information.\n",
      "  warnings.warn(warning_msg, ODEintWarning)\n"
     ]
    },
    {
     "name": "stdout",
     "output_type": "stream",
     "text": [
      "dist is 1.11295107858\n",
      "dist is 783.747577067\n",
      "dist is 853.345057037\n",
      "dist is 866.226110611\n",
      "dist is 870.734230721\n"
     ]
    }
   ],
   "source": [
    "for x in linspace(0, earth.radius/1.5, 5):\n",
    "    \n",
    "    baseball.x = x\n",
    "    system = make_system(baseball)\n",
    "    slope_func(system.init, 0, system)\n",
    "\n",
    "\n",
    "    run_odeint(system, slope_func)\n",
    "\n",
    "    xs = system.results.x  - (x)\n",
    "    ys = system.results.y - (earth.thickness / 2)\n",
    "\n",
    "    xv = system.results.vx\n",
    "    yv = system.results.vy\n",
    "\n",
    "    ground_time = find_landing(system)\n",
    "\n",
    "    newfig()\n",
    "    plot(xs[:ground_time], label='x')\n",
    "    plot(ys[:ground_time], label='y')\n",
    "    plot(xv[:ground_time], label='vx')\n",
    "    plot(yv[:ground_time], label='vy')\n",
    "    plt.grid()\n",
    "    decorate(title='Plot with x = ' + str(x),\n",
    "                xlabel='Time (s)',\n",
    "             ylabel='Position (m)',)\n",
    "    print(\"dist is \" + str(calc_dist(system)))\n",
    "\n"
   ]
  },
  {
   "cell_type": "code",
   "execution_count": 6,
   "metadata": {},
   "outputs": [
    {
     "name": "stdout",
     "output_type": "stream",
     "text": [
      "dist is 37.1938980312\n"
     ]
    }
   ],
   "source": [
    "baseball.x = 240000\n",
    "system = make_system(baseball)\n",
    "slope_func(system.init, 0, system)\n",
    "\n",
    "\n",
    "run_odeint(system, slope_func)\n",
    "\n",
    "xs = system.results.x  - (x)\n",
    "ys = system.results.y - (earth.thickness / 2)\n",
    "\n",
    "xv = system.results.vx\n",
    "yv = system.results.vy\n",
    "\n",
    "ground_time = find_landing(system)\n",
    "\n",
    "newfig()\n",
    "plot(xs[:ground_time], label='x')\n",
    "plot(ys[:ground_time], label='y')\n",
    "plot(xv[:ground_time], label='vx')\n",
    "plot(yv[:ground_time], label='vy')\n",
    "plt.grid()\n",
    "decorate(title='Plot with x = ' + str(x),\n",
    "            xlabel='Time (s)',\n",
    "         ylabel='Position (m)',)\n",
    "print(\"dist is \" + str(calc_dist(system)))"
   ]
  },
  {
   "cell_type": "code",
   "execution_count": 4,
   "metadata": {},
   "outputs": [
    {
     "name": "stderr",
     "output_type": "stream",
     "text": [
      "C:\\ProgramData\\Miniconda3\\lib\\site-packages\\scipy\\integrate\\odepack.py:218: ODEintWarning: Excess work done on this call (perhaps wrong Dfun type). Run with full_output = 1 to get quantitative information.\n",
      "  warnings.warn(warning_msg, ODEintWarning)\n",
      "C:\\ProgramData\\Miniconda3\\lib\\site-packages\\matplotlib\\axes\\_axes.py:545: UserWarning: No labelled objects found. Use label='...' kwarg on individual plots.\n",
      "  warnings.warn(\"No labelled objects found. \"\n"
     ]
    }
   ],
   "source": [
    "for i in range(1):\n",
    "    newfig()\n",
    "    for x in linspace(0, earth.radius/1.5, 200):\n",
    "        baseball.x = x\n",
    "        system = make_system(baseball)\n",
    "\n",
    "        run_odeint(system, slope_func)\n",
    "\n",
    "        ground_time = find_landing(system)\n",
    "        plt.grid()\n",
    "        plot(x, calc_dist(system), 'b-')\n",
    "        decorate(\n",
    "                    xlabel='initial distance from pole',\n",
    "                 ylabel='final distance to initial')"
   ]
  },
  {
   "cell_type": "code",
   "execution_count": null,
   "metadata": {
    "collapsed": true
   },
   "outputs": [],
   "source": []
  }
 ],
 "metadata": {
  "kernelspec": {
   "display_name": "Python 3",
   "language": "python",
   "name": "python3"
  },
  "language_info": {
   "codemirror_mode": {
    "name": "ipython",
    "version": 3
   },
   "file_extension": ".py",
   "mimetype": "text/x-python",
   "name": "python",
   "nbconvert_exporter": "python",
   "pygments_lexer": "ipython3",
   "version": "3.6.1"
  }
 },
 "nbformat": 4,
 "nbformat_minor": 2
}
